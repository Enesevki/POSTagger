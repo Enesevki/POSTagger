{
 "cells": [
  {
   "cell_type": "code",
   "execution_count": null,
   "id": "ef69c288",
   "metadata": {
    "vscode": {
     "languageId": "plaintext"
    }
   },
   "outputs": [],
   "source": [
    "# 1. Gerekli kütüphaneleri içe aktarın\n",
    "import os\n",
    "import sys\n",
    "import matplotlib.pyplot as plt\n",
    "import numpy as np\n",
    "from sklearn.metrics import confusion_matrix\n",
    "\n",
    "# Proje kökünü ve src klasörünü PYTHONPATH’e ekleyin\n",
    "PROJECT_ROOT = os.path.abspath(os.path.join(os.getcwd(), \"..\"))\n",
    "SRC_PATH = os.path.join(PROJECT_ROOT, \"src\")\n",
    "sys.path.insert(0, SRC_PATH)\n",
    "\n",
    "from data_loader import read_conll\n",
    "from features import sent2features, sent2labels\n",
    "from model import load_crf_model, predict_tags\n",
    "\n",
    "# 2. Model ve test verisini yükleyin\n",
    "model_path = os.path.join(PROJECT_ROOT, \"outputs\", \"models\", \"crf.pkl\")\n",
    "test_path  = os.path.join(PROJECT_ROOT, \"data\", \"processed\", \"test.conll\")\n",
    "crf        = load_crf_model(model_path)\n",
    "test_sents = read_conll(test_path)\n",
    "\n",
    "# 3. Özellikleri ve etiketleri çıkarın\n",
    "X_test    = [sent2features(s) for s in test_sents]\n",
    "y_true    = [sent2labels(s)   for s in test_sents]\n",
    "y_pred    = predict_tags(crf, X_test)\n",
    "\n",
    "# 4. Flatten ve Confusion Matrix’i hesaplayın\n",
    "labels        = sorted(crf.classes_)\n",
    "y_true_flat   = [tag for seq in y_true for tag in seq]\n",
    "y_pred_flat   = [tag for seq in y_pred for tag in seq]\n",
    "cm            = confusion_matrix(y_true_flat, y_pred_flat, labels=labels)\n",
    "\n",
    "# 5. Confusion Matrix’i çizdirin\n",
    "fig, ax = plt.subplots(figsize=(12, 10))\n",
    "im = ax.imshow(cm, aspect='auto')\n",
    "ax.set_xticks(np.arange(len(labels)))\n",
    "ax.set_yticks(np.arange(len(labels)))\n",
    "ax.set_xticklabels(labels, rotation=90)\n",
    "ax.set_yticklabels(labels)\n",
    "ax.set_xlabel('Predicted Label')\n",
    "ax.set_ylabel('True Label')\n",
    "ax.set_title('POS Tagging Confusion Matrix')\n",
    "plt.tight_layout()\n",
    "plt.show()\n"
   ]
  }
 ],
 "metadata": {
  "language_info": {
   "name": "python"
  }
 },
 "nbformat": 4,
 "nbformat_minor": 5
}
